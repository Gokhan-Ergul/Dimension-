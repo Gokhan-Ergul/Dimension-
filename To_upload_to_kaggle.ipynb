{
 "cells": [
  {
   "cell_type": "code",
   "execution_count": 2,
   "id": "67a94010-0349-4d67-921d-3afac9469d51",
   "metadata": {},
   "outputs": [
    {
     "name": "stdout",
     "output_type": "stream",
     "text": [
      "Cleaned ZIP file saved as: cropped_images_cleaned.zip\n"
     ]
    }
   ],
   "source": [
    "import os\n",
    "import zipfile\n",
    "\n",
    "def clean_filename(name):\n",
    "    # Remove or replace forbidden characters\n",
    "    return name.replace(\"'\", \"\").replace(\"\\\\\", \"_\")\n",
    "\n",
    "input_zip = \"cropped_images.zip\"\n",
    "output_zip = \"cropped_images_cleaned.zip\"\n",
    "\n",
    "with zipfile.ZipFile(input_zip, 'r') as zin, zipfile.ZipFile(output_zip, 'w') as zout:\n",
    "    for item in zin.infolist():\n",
    "        # Clean filename\n",
    "        clean_name = clean_filename(item.filename)\n",
    "        # Copy file with new name\n",
    "        buffer = zin.read(item.filename)\n",
    "        zout.writestr(clean_name, buffer)\n",
    "\n",
    "print(\"Cleaned ZIP file saved as:\", output_zip)\n"
   ]
  },
  {
   "cell_type": "code",
   "execution_count": null,
   "id": "ae15fb9c-e8d5-4106-a93f-b43e07cc12ad",
   "metadata": {},
   "outputs": [],
   "source": []
  }
 ],
 "metadata": {
  "kernelspec": {
   "display_name": "Python 3 (ipykernel)",
   "language": "python",
   "name": "python3"
  },
  "language_info": {
   "codemirror_mode": {
    "name": "ipython",
    "version": 3
   },
   "file_extension": ".py",
   "mimetype": "text/x-python",
   "name": "python",
   "nbconvert_exporter": "python",
   "pygments_lexer": "ipython3",
   "version": "3.10.0"
  }
 },
 "nbformat": 4,
 "nbformat_minor": 5
}
