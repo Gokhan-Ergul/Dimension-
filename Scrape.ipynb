{
 "cells": [
  {
   "cell_type": "code",
   "execution_count": 53,
   "id": "90948bb6-bb46-475b-a924-70d89399398d",
   "metadata": {},
   "outputs": [],
   "source": [
    "import pandas as pd\n",
    "from selenium.common.exceptions import NoSuchElementException\n",
    "from selenium.common.exceptions import StaleElementReferenceException\n",
    "from selenium import webdriver\n",
    "from selenium.webdriver.chrome.service import Service\n",
    "from selenium.webdriver.common.by import By\n",
    "from selenium.webdriver.support import expected_conditions as EC\n",
    "from selenium.webdriver.support.ui import WebDriverWait\n",
    "from selenium.webdriver.common.keys import Keys\n",
    "from selenium.webdriver.chrome.options import Options\n",
    "import time\n",
    "import re\n",
    "import traceback\n",
    "from warnings import filterwarnings\n",
    "filterwarnings('ignore')"
   ]
  },
  {
   "cell_type": "code",
   "execution_count": 54,
   "id": "e36ac6ae-5bef-48fe-aa30-017a98ac0bc7",
   "metadata": {},
   "outputs": [],
   "source": [
    "driver = None"
   ]
  },
  {
   "cell_type": "code",
   "execution_count": 55,
   "id": "132f428e-0cf4-4441-9aa8-6a8f1526fac4",
   "metadata": {},
   "outputs": [],
   "source": [
    "def open_main_screen():\n",
    "    global driver\n",
    "    path = \"C:\\\\Program Files (x86)\\\\chromedriver.exe\"\n",
    "    service = Service(path)\n",
    "    options = Options()\n",
    "    #options.add_argument(\"--headless\")\n",
    "    chrome_options = Options()\n",
    "    chrome_options.add_argument(\"--disable-notifications\")  # Bildirimleri devre dışı bırak\n",
    "    chrome_options.add_argument(\"--disable-popup-blocking\") # Pop-up'ları engelle\n",
    "    chrome_options.add_argument(\"--start-maximized\")       # Tam ekran başlat\n",
    "    \n",
    "    # Tarayıcı profili\n",
    "    prefs = {\"profile.default_content_setting_values.notifications\": 2}  # Bildirim izinlerini kapat\n",
    "    chrome_options.add_experimental_option(\"prefs\", prefs)\n",
    "    driver = webdriver.Chrome(service=service, options=chrome_options)\n",
    "    url = \"https://www.trendyol.com/\"\n",
    "    driver.get(url)\n",
    "    \n",
    "    try:\n",
    "        cookies_button_rejected = WebDriverWait(driver, 10).until(\n",
    "            EC.element_to_be_clickable((By.XPATH, '//*[@id=\"onetrust-reject-all-handler\"]')))\n",
    "        cookies_button_rejected.click()\n",
    "    except Exception as e:\n",
    "        print('cookies not found')\n",
    "        print(e)\n"
   ]
  },
  {
   "cell_type": "code",
   "execution_count": 56,
   "id": "03dd5bb7-396a-4526-bb5d-b737c3581e18",
   "metadata": {},
   "outputs": [],
   "source": [
    "def search_items(entry):\n",
    "    global driver\n",
    "    search_box = driver.find_element(By.XPATH,'//*[@id=\"sfx-discovery-search-suggestions\"]/div/div/input')\n",
    "    search_box.clear()\n",
    "    search_box.send_keys(entry)\n",
    "    search_box.send_keys(Keys.RETURN)\n",
    "    time.sleep(3)  "
   ]
  },
  {
   "cell_type": "code",
   "execution_count": 57,
   "id": "f3359e09-ca1c-44d8-b7fb-92475ec2f057",
   "metadata": {},
   "outputs": [],
   "source": [
    "def select_most_reated():\n",
    "    global driver\n",
    "    recommended = driver.find_element(By.XPATH,'//*[@id=\"search-app\"]/div/div/div/div[2]/div[1]/div[2]/div/div/div')\n",
    "    recommended.click()\n",
    "    most_rated = driver.find_element(By.XPATH,'//*[@id=\"search-app\"]/div/div/div/div[2]/div[1]/div[2]/div/ul/li[7]/span')\n",
    "    most_rated.click()"
   ]
  },
  {
   "cell_type": "code",
   "execution_count": 77,
   "id": "5ff5f95a-f593-4bb9-a9e8-16271e7921ab",
   "metadata": {},
   "outputs": [],
   "source": [
    "def find_dim():\n",
    "    global driver\n",
    "    keywords = [\"boyut\", \"ölçü\", \"uzunluk\", \"genişlik\", \"yükseklik\", \"cm\", \"mm\", \"metre\",'santimetre','santim']\n",
    "    pattern = re.compile(r\".*(\" + \"|\".join(keywords) + r\").*\", re.IGNORECASE)\n",
    "    try:\n",
    "        find_dem = driver.find_element(By.XPATH,'//*[@id=\"product-detail-app\"]/div/section/div/div/div/ul') \n",
    "        relevant_details = [line.strip() for line in find_dem.text.split('\\n') if pattern.match(line.strip())]\n",
    "        texts_with_numbers = [text.strip() for text in relevant_details if re.search(r'\\d+\\s*[xX]\\s*\\d+', text)]\n",
    "        return texts_with_numbers\n",
    "    except Exception as e:\n",
    "        return f\"An error occurred: {str(e)}\" # every product must contain these field so if it's not return me a error."
   ]
  },
  {
   "cell_type": "code",
   "execution_count": 76,
   "id": "bcf7dc07-c407-41f8-a73f-0446fe05a69e",
   "metadata": {},
   "outputs": [],
   "source": [
    "def find_dim_from_content():\n",
    "    keywords = [\"boyut\", \"ölçü\", \"uzunluk\", \"genişlik\", \"yükseklik\", \"cm\", \"mm\", \"metre\",'santimetre','santim','ebat']\n",
    "    pattern = re.compile(r\".*(\" + \"|\".join(keywords) + r\").*\", re.IGNORECASE)\n",
    "    try:\n",
    "        find_dem = driver.find_element(By.XPATH, '//*[@id=\"urun-aciklamasi\"]/div')\n",
    "        relevant_details = [line.strip() for line in find_dem.text.split('\\n') if pattern.match(line.strip())]\n",
    "        texts_with_numbers = [text.strip() for text in relevant_details if re.search(r'\\d+\\s*[xX]\\s*\\d+', text)]\n",
    "        return texts_with_numbers\n",
    "    except Exception as e:\n",
    "        return None #every product don't have to contain these field so if it's not, note return me any thing"
   ]
  },
  {
   "cell_type": "code",
   "execution_count": 78,
   "id": "e0cc149e-ffe1-4039-a7e2-cfa61c03ddc6",
   "metadata": {},
   "outputs": [],
   "source": [
    "def guess_dimensions():\n",
    "    global driver\n",
    "    try:\n",
    "        element = driver.find_element(By.CLASS_NAME, 'navigate-all-reviews-btn')\n",
    "    except:\n",
    "        return None\n",
    "    driver.execute_script(\"arguments[0].scrollIntoView({behavior: 'smooth', block: 'center'});\", element)\n",
    "    time.sleep(1)\n",
    "    #driver.execute_script(\"window.scrollBy(0, -400);\") bu biraz daha kesin olmayan yol\n",
    "    try:\n",
    "        WebDriverWait(driver, 10).until(EC.element_to_be_clickable((By.XPATH, \"//a[p[text()='boyut ve ölçü']]\"))).click()\n",
    "    except:\n",
    "        try:\n",
    "            button = driver.find_element(By.XPATH, \"//button[contains(@class, 'tags-wrapper__button') and not(contains(@class, 'rotate-180'))]\")\n",
    "            button.click()\n",
    "            WebDriverWait(driver, 10).until(EC.element_to_be_clickable((By.XPATH, \"//a[p[text()='boyut ve ölçü']]\"))).click()\n",
    "        except:\n",
    "            return None\n",
    "\n",
    "    time.sleep(1)\n",
    "    answers = driver.find_elements(By.CLASS_NAME, 'answer')\n",
    "    for answer in answers:\n",
    "        answer = answer.text.split('\\n')[1]\n",
    "        answer = answer.lower()\n",
    "        if re.search(r'\\d+\\s*[xX]\\s*\\d+', answer):\n",
    "            return answer"
   ]
  },
  {
   "cell_type": "code",
   "execution_count": 79,
   "id": "e8c3dc13-c3e8-466a-ad95-67d15895e5ad",
   "metadata": {},
   "outputs": [],
   "source": [
    "def guess_dim_from_comment(entry = 'Boyut' ):\n",
    "    try:\n",
    "        element = driver.find_element(By.CLASS_NAME, 'navigate-all-questions-btn')\n",
    "    except:\n",
    "        return None\n",
    "    element.click()\n",
    "    time.sleep(2)\n",
    "    search_box = driver.find_element(By.XPATH,'//*[@id=\"questions-and-answers-app\"]/div/div/div/div/div/div[3]/div[2]/div/div[1]/input')\n",
    "    search_box.send_keys(entry)\n",
    "    search_box.send_keys(Keys.RETURN)\n",
    "    time.sleep(2)\n",
    "\n",
    "    answers = driver.find_elements(By.CLASS_NAME, 'answer')\n",
    "    for answer in answers:\n",
    "        answer = answer.text.split('\\n')[1]\n",
    "        answer = answer.lower()\n",
    "        if re.search(r'\\d+\\s*[xX]\\s*\\d+', answer):\n",
    "            return answer\n",
    "    return None\n",
    "    "
   ]
  },
  {
   "cell_type": "code",
   "execution_count": 63,
   "id": "43a115df-1fde-4f5d-be40-9f5c31548b1a",
   "metadata": {},
   "outputs": [],
   "source": [
    "def click_all_features():\n",
    "    global driver\n",
    "    ozellikler = driver.find_element(By.CLASS_NAME,'button-all-features')\n",
    "    ozellikler.click()"
   ]
  },
  {
   "cell_type": "code",
   "execution_count": 64,
   "id": "5c7ea0c7-d2b8-44f5-beec-e874ed8942c0",
   "metadata": {},
   "outputs": [],
   "source": [
    "def close_understood():\n",
    "    global is_it_first_time\n",
    "    if is_it_first_time:\n",
    "        global driver\n",
    "        understood = driver.find_element(By.XPATH,'//*[@id=\"product-detail-app\"]/div/div[2]/div/div[2]/div[2]/div/div[1]/aside/div[1]/div/div[2]/div/div[2]/div/div/button')\n",
    "        understood.click()\n",
    "        is_it_first_time = False"
   ]
  },
  {
   "cell_type": "code",
   "execution_count": 65,
   "id": "7c9f3977-f68d-4eab-b549-a7786d916bd5",
   "metadata": {},
   "outputs": [],
   "source": [
    "def scrap_brand():\n",
    "    global driver\n",
    "    brand = WebDriverWait(driver, 10).until(EC.element_to_be_clickable((By.XPATH, \"//*[contains(@class, 'product-brand-name')]\")))\n",
    "    return brand.text"
   ]
  },
  {
   "cell_type": "code",
   "execution_count": 66,
   "id": "7780d8a1-86b3-4877-a2cd-ef580b3a57e8",
   "metadata": {},
   "outputs": [],
   "source": [
    "def scrap_title():\n",
    "    all_title = driver.find_element(By.CLASS_NAME,'pr-new-br').text\n",
    "    brand = scrap_brand()\n",
    "    title  = all_title.strip(brand).strip()\n",
    "    return brand, title"
   ]
  },
  {
   "cell_type": "code",
   "execution_count": 62,
   "id": "005e9031-33e5-46ff-a587-c5913b4c46aa",
   "metadata": {},
   "outputs": [],
   "source": [
    "def scrape_photo():\n",
    "    WebDriverWait(driver, 10).until(EC.element_to_be_clickable((By.CLASS_NAME, \"rvw-cnt-tx\"))).click()\n",
    "    #enter_images = driver.find_element(By.XPATH, \"//span[@class='ps-tags__tag--bold' and contains(text(), 'fotoğraflı')]\")\n",
    "    enter_images = driver.find_element(By.XPATH,'//*[@id=\"rating-and-review-app\"]/div/div/div/div[3]/div/div/div[3]/div[1]/div/div[1]/button')\n",
    "    enter_images.click()"
   ]
  },
  {
   "cell_type": "code",
   "execution_count": 92,
   "id": "2dcd8c7b-2057-4260-8003-0b76a2189d11",
   "metadata": {},
   "outputs": [],
   "source": [
    "def run():\n",
    "    global driver\n",
    "    global is_it_first_time\n",
    "    is_it_first_time = True\n",
    "    open_main_screen()\n",
    "    search_keys = ['suluk']\n",
    "    for key in search_keys:\n",
    "        search_items(key)\n",
    "        select_most_reated()\n",
    "        time.sleep(2)\n",
    "        products = WebDriverWait(driver, 10).until(\n",
    "            EC.presence_of_all_elements_located((By.CLASS_NAME, 'variant-options-wrapper')))\n",
    "        for i in products:\n",
    "            i.click()\n",
    "            time.sleep(2)\n",
    "            windows = driver.window_handles\n",
    "            driver.switch_to.window(windows[1])\n",
    "            if is_it_first_time:\n",
    "                close_understood()\n",
    "            #dfdfdfdfdfffddfdfdfdfdfdfdfdfffddfdfdf\n",
    "            time.sleep(2)\n",
    "            brand = scrap_title()[0]\n",
    "            title = scrap_title()[1]\n",
    "            key = key\n",
    "            #dfdfdfdfdfffddfdfdfdfdfdfdfdfffddfdfdf\n",
    "            click_all_features()\n",
    "            time.sleep(1)\n",
    "            dim = find_dim()\n",
    "            if not dim:\n",
    "                driver.execute_script(\"window.scrollBy(0, 400);\") #bazi urunlerde aciklama olmadigi icin ortala yerine kaydiriyorum.\n",
    "                dim = find_dim_from_content()\n",
    "                if not dim:\n",
    "                    dim = guess_dimensions()\n",
    "                    if not dim:\n",
    "                        driver.back()\n",
    "                        dim = guess_dim_from_comment()\n",
    "            driver.close()\n",
    "            driver.switch_to.window(windows[0])\n",
    "            driver.execute_script(\"window.scrollTo(0, 0);\")\n",
    "            print(dim)\n",
    "            break"
   ]
  },
  {
   "cell_type": "code",
   "execution_count": 93,
   "id": "7f275f37-6f11-403c-842a-da858ceafc78",
   "metadata": {},
   "outputs": [
    {
     "name": "stdout",
     "output_type": "stream",
     "text": [
      "None\n"
     ]
    }
   ],
   "source": [
    "run()"
   ]
  },
  {
   "cell_type": "code",
   "execution_count": null,
   "id": "39b2e915-4933-41ae-88ac-c294208bf375",
   "metadata": {},
   "outputs": [],
   "source": [
    "windows = driver.window_handles\n",
    "driver.switch_to.window(windows[1])\n",
    "scrap_brand()"
   ]
  },
  {
   "cell_type": "code",
   "execution_count": 83,
   "id": "0b7a0716-48fd-4282-8bce-071001804271",
   "metadata": {},
   "outputs": [],
   "source": [
    "windows = driver.window_handles\n",
    "driver.switch_to.window(windows[1])\n",
    "driver.execute_script(\"window.scrollBy(0, 400);\")"
   ]
  },
  {
   "cell_type": "code",
   "execution_count": null,
   "id": "8bc7848f-2726-426c-9043-5dafd193c644",
   "metadata": {},
   "outputs": [],
   "source": []
  }
 ],
 "metadata": {
  "kernelspec": {
   "display_name": "Python 3 (ipykernel)",
   "language": "python",
   "name": "python3"
  },
  "language_info": {
   "codemirror_mode": {
    "name": "ipython",
    "version": 3
   },
   "file_extension": ".py",
   "mimetype": "text/x-python",
   "name": "python",
   "nbconvert_exporter": "python",
   "pygments_lexer": "ipython3",
   "version": "3.12.2"
  }
 },
 "nbformat": 4,
 "nbformat_minor": 5
}
