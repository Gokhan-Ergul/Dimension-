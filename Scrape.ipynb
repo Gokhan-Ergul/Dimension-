{
 "cells": [
  {
   "cell_type": "code",
   "execution_count": 39,
   "id": "90948bb6-bb46-475b-a924-70d89399398d",
   "metadata": {},
   "outputs": [],
   "source": [
    "import pandas as pd\n",
    "from selenium.common.exceptions import NoSuchElementException\n",
    "from selenium.common.exceptions import StaleElementReferenceException\n",
    "from selenium import webdriver\n",
    "from selenium.webdriver.chrome.service import Service\n",
    "from selenium.webdriver.common.by import By\n",
    "from selenium.webdriver.support import expected_conditions as EC\n",
    "from selenium.webdriver.support.ui import WebDriverWait\n",
    "from selenium.webdriver.common.keys import Keys\n",
    "from selenium.webdriver.chrome.options import Options\n",
    "import time\n",
    "import re\n",
    "import traceback\n",
    "from warnings import filterwarnings\n",
    "filterwarnings('ignore')"
   ]
  },
  {
   "cell_type": "code",
   "execution_count": 40,
   "id": "e36ac6ae-5bef-48fe-aa30-017a98ac0bc7",
   "metadata": {},
   "outputs": [],
   "source": [
    "driver = None"
   ]
  },
  {
   "cell_type": "code",
   "execution_count": 41,
   "id": "132f428e-0cf4-4441-9aa8-6a8f1526fac4",
   "metadata": {},
   "outputs": [],
   "source": [
    "def open_main_screen():\n",
    "    global driver\n",
    "    path = \"C:\\\\Program Files (x86)\\\\chromedriver.exe\"\n",
    "    service = Service(path)\n",
    "    options = Options()\n",
    "    #options.add_argument(\"--headless\")\n",
    "    chrome_options = Options()\n",
    "    chrome_options.add_argument(\"--disable-notifications\")  # Bildirimleri devre dışı bırak\n",
    "    chrome_options.add_argument(\"--disable-popup-blocking\") # Pop-up'ları engelle\n",
    "    chrome_options.add_argument(\"--start-maximized\")       # Tam ekran başlat\n",
    "    \n",
    "    # Tarayıcı profili\n",
    "    prefs = {\"profile.default_content_setting_values.notifications\": 2}  # Bildirim izinlerini kapat\n",
    "    chrome_options.add_experimental_option(\"prefs\", prefs)\n",
    "    driver = webdriver.Chrome(service=service, options=chrome_options)\n",
    "    url = \"https://www.trendyol.com/\"\n",
    "    driver.get(url)\n",
    "    \n",
    "    try:\n",
    "        cookies_button_rejected = WebDriverWait(driver, 10).until(\n",
    "            EC.element_to_be_clickable((By.XPATH, '//*[@id=\"onetrust-reject-all-handler\"]')))\n",
    "        cookies_button_rejected.click()\n",
    "    except Exception as e:\n",
    "        print('cookies not found')\n",
    "        print(e)\n"
   ]
  },
  {
   "cell_type": "code",
   "execution_count": 42,
   "id": "1f96aae1-c4b1-40ce-8e8d-230ffe9867bf",
   "metadata": {},
   "outputs": [],
   "source": [
    "keys = [\n",
    "    'searched_key_word',\n",
    "    'brand',\n",
    "    'title',\n",
    "    'find_dim',\n",
    "    'find_dim_from_content',\n",
    "    'guess_dimensions',\n",
    "    'guess_dim_from_comment'\n",
    "    'image_path',\n",
    "]\n",
    "\n",
    "df = pd.DataFrame(columns=keys)"
   ]
  },
  {
   "cell_type": "code",
   "execution_count": 43,
   "id": "03dd5bb7-396a-4526-bb5d-b737c3581e18",
   "metadata": {},
   "outputs": [],
   "source": [
    "def search_items(entry):\n",
    "    global driver\n",
    "    search_box = driver.find_element(By.XPATH,'//*[@id=\"sfx-discovery-search-suggestions\"]/div/div/input')\n",
    "    search_box.clear()\n",
    "    search_box.send_keys(entry)\n",
    "    search_box.send_keys(Keys.RETURN)\n",
    "    time.sleep(3)  "
   ]
  },
  {
   "cell_type": "code",
   "execution_count": 44,
   "id": "f3359e09-ca1c-44d8-b7fb-92475ec2f057",
   "metadata": {},
   "outputs": [],
   "source": [
    "def select_most_reated():\n",
    "    global driver\n",
    "    recommended = driver.find_element(By.XPATH,'//*[@id=\"search-app\"]/div/div/div/div[2]/div[1]/div[2]/div/div/div')\n",
    "    recommended.click()\n",
    "    most_rated = driver.find_element(By.XPATH,'//*[@id=\"search-app\"]/div/div/div/div[2]/div[1]/div[2]/div/ul/li[7]/span')\n",
    "    most_rated.click()"
   ]
  },
  {
   "cell_type": "code",
   "execution_count": 45,
   "id": "5ff5f95a-f593-4bb9-a9e8-16271e7921ab",
   "metadata": {},
   "outputs": [],
   "source": [
    "def find_dim():\n",
    "    global driver\n",
    "    keywords = [\"boyut\", \"ölçü\", \"uzunluk\", \"genişlik\", \"yükseklik\", \"cm\", \"mm\", \"metre\",'santimetre','santim']\n",
    "    pattern = re.compile(r\".*(\" + \"|\".join(keywords) + r\").*\", re.IGNORECASE)\n",
    "    try:\n",
    "        find_dem = driver.find_element(By.XPATH,'//*[@id=\"product-detail-app\"]/div/section/div/div/div/ul') \n",
    "        relevant_details = [line.strip() for line in find_dem.text.split('\\n') if pattern.match(line.strip())]\n",
    "        texts_with_numbers = [text.strip() for text in relevant_details if re.search(r'\\d+\\s*[xX]\\s*\\d+', text)]\n",
    "        if texts_with_numbers == []:\n",
    "            texts_with_numbers = [text.strip() for text in relevant_details if re.search(r\"(\\d+)\\s*(cm|mm)\", text)]\n",
    "        return texts_with_numbers\n",
    "    except Exception as e:\n",
    "        return f\"An error occurred: {str(e)}\" # every product must contain these field so if it's not return me a error."
   ]
  },
  {
   "cell_type": "code",
   "execution_count": 46,
   "id": "bcf7dc07-c407-41f8-a73f-0446fe05a69e",
   "metadata": {},
   "outputs": [],
   "source": [
    "def find_dim_from_content():\n",
    "    keywords = [\"boyut\", \"ölçü\", \"uzunluk\", \"genişlik\", \"yükseklik\", \"cm\", \"mm\", \"metre\",'santimetre','santim','ebat']\n",
    "    pattern = re.compile(r\".*(\" + \"|\".join(keywords) + r\").*\", re.IGNORECASE)\n",
    "    try:\n",
    "        find_dem = driver.find_element(By.XPATH, '//*[@id=\"urun-aciklamasi\"]/div')\n",
    "        relevant_details = [line.strip() for line in find_dem.text.split('\\n') if pattern.match(line.strip())]\n",
    "        texts_with_numbers = [text.strip() for text in relevant_details if re.search(r'\\d+\\s*[xX]\\s*\\d+', text)]\n",
    "        if texts_with_numbers == []:\n",
    "            texts_with_numbers = [text.strip() for text in relevant_details if re.search(r\"(\\d+)\\s*(cm|mm)\", text)]\n",
    "        return texts_with_numbers\n",
    "    except Exception as e:\n",
    "        return None #every product don't have to contain these field so if it's not, note return me any thing"
   ]
  },
  {
   "cell_type": "code",
   "execution_count": 47,
   "id": "e0cc149e-ffe1-4039-a7e2-cfa61c03ddc6",
   "metadata": {},
   "outputs": [],
   "source": [
    "def guess_dimensions():\n",
    "    global driver\n",
    "    try:\n",
    "        element = driver.find_element(By.CLASS_NAME, 'navigate-all-reviews-btn')\n",
    "    except:\n",
    "        return 'there is no comment'\n",
    "    driver.execute_script(\"arguments[0].scrollIntoView({behavior: 'smooth', block: 'center'});\", element)\n",
    "    time.sleep(1)\n",
    "    #driver.execute_script(\"window.scrollBy(0, -400);\") bu biraz daha kesin olmayan yol\n",
    "    try:\n",
    "        WebDriverWait(driver, 10).until(EC.element_to_be_clickable((By.XPATH, \"//a[p[text()='boyut ve ölçü']]\"))).click()\n",
    "    except:\n",
    "        try:\n",
    "            button = driver.find_element(By.XPATH, \"//button[contains(@class, 'tags-wrapper__button') and not(contains(@class, 'rotate-180'))]\")\n",
    "            button.click()\n",
    "            WebDriverWait(driver, 10).until(EC.element_to_be_clickable((By.XPATH, \"//a[p[text()='boyut ve ölçü']]\"))).click()\n",
    "        except:\n",
    "            return None\n",
    "\n",
    "    time.sleep(1)\n",
    "    answers = driver.find_elements(By.CLASS_NAME, 'answer')\n",
    "    for answer in answers:\n",
    "        answer = answer.text.split('\\n')[1]\n",
    "        answer = answer.lower()\n",
    "        if re.search(r'\\d+\\s*[xX]\\s*\\d+', answer):\n",
    "            return answer\n",
    "            \n",
    "    for answer in answers:\n",
    "        answer = answer.text.split('\\n')[1]\n",
    "        answer = answer.lower()\n",
    "        if re.search(r\"(\\d+)\\s*(cm|mm)\", answer):\n",
    "            return answer\n",
    "\n",
    "    return None"
   ]
  },
  {
   "cell_type": "code",
   "execution_count": 48,
   "id": "e8c3dc13-c3e8-466a-ad95-67d15895e5ad",
   "metadata": {},
   "outputs": [],
   "source": [
    "def guess_dim_from_comment(entry = 'Boyut' ):\n",
    "    try:\n",
    "        element = driver.find_element(By.CLASS_NAME, 'navigate-all-questions-btn')\n",
    "    except:\n",
    "        return 'there is no comment'\n",
    "    element.click()\n",
    "    time.sleep(2)\n",
    "    search_box = driver.find_element(By.XPATH,'//*[@id=\"questions-and-answers-app\"]/div/div/div/div/div/div[3]/div[2]/div/div[1]/input')\n",
    "    search_box.send_keys(entry)\n",
    "    search_box.send_keys(Keys.RETURN)\n",
    "    time.sleep(2)\n",
    "\n",
    "    answers = driver.find_elements(By.CLASS_NAME, 'answer')\n",
    "    for answer in answers:\n",
    "        answer = answer.text.split('\\n')[1]\n",
    "        answer = answer.lower()\n",
    "        if re.search(r'\\d+\\s*[xX]\\s*\\d+', answer):\n",
    "            return answer\n",
    "\n",
    "    for answer in answers:\n",
    "       answer = answer.text.split('\\n')[1]\n",
    "       answer = answer.lower()\n",
    "       if re.search(r\"(\\d+)\\s*(cm|mm)\", answer):\n",
    "           return answer\n",
    "    return None\n",
    "    "
   ]
  },
  {
   "cell_type": "code",
   "execution_count": 49,
   "id": "43a115df-1fde-4f5d-be40-9f5c31548b1a",
   "metadata": {},
   "outputs": [],
   "source": [
    "def click_all_features():\n",
    "    global driver\n",
    "    ozellikler = driver.find_element(By.CLASS_NAME,'button-all-features')\n",
    "    ozellikler.click()"
   ]
  },
  {
   "cell_type": "code",
   "execution_count": 50,
   "id": "5c7ea0c7-d2b8-44f5-beec-e874ed8942c0",
   "metadata": {},
   "outputs": [],
   "source": [
    "def close_understood():\n",
    "    global is_it_first_time\n",
    "    if is_it_first_time:\n",
    "        global driver\n",
    "        understood = driver.find_element(By.XPATH,'//*[@id=\"product-detail-app\"]/div/div[2]/div/div[2]/div[2]/div/div[1]/aside/div[1]/div/div[2]/div/div[2]/div/div/button')\n",
    "        understood.click()\n",
    "        is_it_first_time = False"
   ]
  },
  {
   "cell_type": "code",
   "execution_count": 51,
   "id": "7c9f3977-f68d-4eab-b549-a7786d916bd5",
   "metadata": {},
   "outputs": [],
   "source": [
    "def scrap_brand():\n",
    "    global driver\n",
    "    brand = WebDriverWait(driver, 10).until(EC.element_to_be_clickable((By.XPATH, \"//*[contains(@class, 'product-brand-name')]\")))\n",
    "    return brand.text"
   ]
  },
  {
   "cell_type": "code",
   "execution_count": 52,
   "id": "7780d8a1-86b3-4877-a2cd-ef580b3a57e8",
   "metadata": {},
   "outputs": [],
   "source": [
    "def scrap_title():\n",
    "    all_title = driver.find_element(By.CLASS_NAME,'pr-new-br').text\n",
    "    brand = scrap_brand()\n",
    "    title  = all_title.strip(brand).strip()\n",
    "    return brand, title"
   ]
  },
  {
   "cell_type": "code",
   "execution_count": 96,
   "id": "005e9031-33e5-46ff-a587-c5913b4c46aa",
   "metadata": {},
   "outputs": [],
   "source": [
    "def scrape_photo(photo_number):\n",
    "    WebDriverWait(driver, 10).until(EC.element_to_be_clickable((By.CLASS_NAME, \"rvw-cnt-tx\"))).click()\n",
    "    #enter_images = driver.find_element(By.XPATH, \"//span[@class='ps-tags__tag--bold' and contains(text(), 'fotoğraflı')]\")\n",
    "    time.sleep(2)\n",
    "    try:\n",
    "        enter_images = driver.find_element(By.XPATH,'//*[@id=\"rating-and-review-app\"]/div/div/div/div[3]/div/div/div[3]/div[1]/div/div[1]/button')\n",
    "        enter_images.click()\n",
    "    except:\n",
    "        return \"There is no enough photo\"\n",
    "\n",
    "    gallery_items = driver.find_elements(By.CLASS_NAME, \"image-gallery-item\")\n",
    "    image_links = []\n",
    "    for index in range(0,(int(photo_number/20))): # there are 20 photos in scroll panel when we open that\n",
    "        for index, item in enumerate(gallery_items, start=1):\n",
    "            if index % 20==0 and index !=0:\n",
    "                print('buraya girilen indexler:',index)\n",
    "                gallery = driver.find_element(By.CLASS_NAME, \"image-gallery-content\")\n",
    "                driver.execute_script(\"arguments[0].scrollTop += 400;\", gallery)\n",
    "                time.sleep(1)\n",
    "                driver.execute_script(\"arguments[0].scrollTop += 400;\", gallery)\n",
    "                time.sleep(1)\n",
    "                driver.execute_script(\"arguments[0].scrollTop += 100;\", gallery)\n",
    "                time.sleep(1)\n",
    "                gallery_items = driver.find_elements(By.CLASS_NAME, \"image-gallery-item\")\n",
    "            \n",
    "    gallery_items = driver.find_elements(By.CLASS_NAME, \"image-gallery-item\")\n",
    "    for item in gallery_items:\n",
    "        img = item.find_element(By.TAG_NAME, \"img\")\n",
    "        image_links.append(img.get_attribute('src'))\n",
    "\n",
    "    return image_links"
   ]
  },
  {
   "cell_type": "code",
   "execution_count": null,
   "id": "adec666e-f576-4530-b74a-cbecd4d13940",
   "metadata": {
    "scrolled": true
   },
   "outputs": [
    {
     "name": "stdout",
     "output_type": "stream",
     "text": [
      "buraya girilen indexler: 20\n",
      "buraya girilen indexler: 20\n",
      "buraya girilen indexler: 40\n",
      "buraya girilen indexler: 20\n",
      "buraya girilen indexler: 40\n"
     ]
    }
   ],
   "source": [
    "images = scrape_photo(80)"
   ]
  },
  {
   "cell_type": "code",
   "execution_count": 92,
   "id": "f6af1d88-ce2b-4a65-89bd-08752276a755",
   "metadata": {},
   "outputs": [
    {
     "data": {
      "text/plain": [
       "40"
      ]
     },
     "execution_count": 92,
     "metadata": {},
     "output_type": "execute_result"
    }
   ],
   "source": [
    "len(images)"
   ]
  },
  {
   "cell_type": "code",
   "execution_count": 84,
   "id": "bb21177a-3a3a-4398-9f5d-7bbe85df75ca",
   "metadata": {},
   "outputs": [
    {
     "data": {
      "text/plain": [
       "0"
      ]
     },
     "execution_count": 84,
     "metadata": {},
     "output_type": "execute_result"
    }
   ],
   "source": [
    "from collections import Counter\n",
    "\n",
    "url_counts = Counter(images)\n",
    "duplicates = [url for url, count in url_counts.items() if count > 1]\n",
    "len(duplicates) #there is no dublicat url of photos."
   ]
  },
  {
   "cell_type": "code",
   "execution_count": 83,
   "id": "0b372128-9697-4b09-a720-eae70600ec50",
   "metadata": {},
   "outputs": [
    {
     "data": {
      "text/plain": [
       "['https://review-rating.mncdn.com/mnresize/140/210/prod/img/2017928/2025904/2025904/202437657/8188178-1723150691660.jpeg',\n",
       " 'https://review-rating.mncdn.com/mnresize/140/210/prod/img/2017928/2020919/2036871/202437657/15991354-1710860591357.jpeg',\n",
       " 'https://review-rating.mncdn.com/mnresize/140/210/prod/img/2017928/2025904/2021916/202437657/43920348-1722771461430.jpeg',\n",
       " 'https://review-rating.mncdn.com/mnresize/140/210/prod/img/2017928/2025904/2042853/202437657/103263687-1724584838219.jpeg',\n",
       " 'https://review-rating.mncdn.com/mnresize/140/210/prod/img/2017928/2026901/2039862/202437657/26553260-1727018448945.jpeg',\n",
       " 'https://review-rating.mncdn.com/mnresize/140/210/prod/img/2017928/2025904/2042853/202437657/103263687-1724584839564.jpeg',\n",
       " 'https://review-rating.mncdn.com/mnresize/140/210/prod/img/2017928/2025904/2021916/202437657/43920348-1722771462142.jpeg',\n",
       " 'https://review-rating.mncdn.com/mnresize/140/210/prod/img/2017928/2023910/2045844/202437657/14045813-1719567034364.jpeg',\n",
       " 'https://review-rating.mncdn.com/mnresize/140/210/prod/img/2017928/2026901/2039862/202437657/29757593-1726983144211.jpeg',\n",
       " 'https://review-rating.mncdn.com/mnresize/140/210/prod/img/2017928/2023910/2027898/202437657/15190000-1718034200829.jpeg',\n",
       " 'https://review-rating.mncdn.com/mnresize/140/210/prod/img/2016931/2019922/2033880/202437657/78921663-1679071119736.jpeg',\n",
       " 'https://review-rating.mncdn.com/mnresize/140/210/prod/img/2016931/2019922/2033880/202437657/78921663-1679071119029.jpeg',\n",
       " 'https://review-rating.mncdn.com/mnresize/140/210/prod/img/2016931/2019922/2033880/202437657/78921663-1679071653180.jpeg',\n",
       " 'https://review-rating.mncdn.com/mnresize/140/210/prod/img/2016931/2017928/2042853/202437657/16051861-1674751703282.jpeg',\n",
       " 'https://review-rating.mncdn.com/mnresize/140/210/prod/img/2015934/2026901/2042853/202437657/29165273-1669551757870.jpeg',\n",
       " 'https://review-rating.mncdn.com/mnresize/140/210/prod/img/2015934/2024907/2023910/202437657/15600153-1662641050806.jpeg',\n",
       " 'https://review-rating.mncdn.com/mnresize/140/210/prod/img/2015934/2024907/2023910/202437657/15600153-1662641050999.jpeg',\n",
       " 'https://review-rating.mncdn.com/mnresize/140/210/prod/img/2016931/2020919/2034877/202437657/82032316-1681841780914.jpeg',\n",
       " 'https://review-rating.mncdn.com/mnresize/140/210/prod/img/2017928/2024907/2043850/202437657/10294164-1721981526428.jpeg',\n",
       " 'https://review-rating.mncdn.com/mnresize/140/210/prod/img/2015934/2027898/2028895/202437657/11955897-1670933679072.jpeg',\n",
       " 'https://review-rating.mncdn.com/mnresize/140/210/prod/img/2015934/2027898/2028895/202437657/38006649-1670950450186.jpeg',\n",
       " 'https://review-rating.mncdn.com/mnresize/140/210/prod/img/2015934/2022913/2039862/202437657/60950904-1658646915267.jpeg',\n",
       " 'https://review-rating.mncdn.com/mnresize/140/210/prod/img/2015934/2022913/2039862/202437657/60950904-1658646914495.jpeg',\n",
       " 'https://review-rating.mncdn.com/mnresize/140/210/prod/img/2016931/2017928/2040859/202437657/4081169-1674547137721.jpeg',\n",
       " 'https://review-rating.mncdn.com/mnresize/140/210/prod/img/2016931/2017928/2040859/202437657/4081169-1674547138279.jpeg',\n",
       " 'https://review-rating.mncdn.com/mnresize/140/210/prod/img/2015934/2020919/2040859/202437657/43325137-1653468604666.jpeg',\n",
       " 'https://review-rating.mncdn.com/mnresize/140/210/prod/img/2015934/2020919/2040859/202437657/43325137-1653468605067.jpeg',\n",
       " 'https://review-rating.mncdn.com/mnresize/140/210/prod/img/2015934/2023910/2017928/202437657/24422039-1659441829294.jpeg',\n",
       " 'https://review-rating.mncdn.com/mnresize/140/210/prod/img/2017928/2024907/2028895/202437657/23554222-1720726644488.jpeg',\n",
       " 'https://review-rating.mncdn.com/mnresize/140/210/prod/img/2017928/2024907/2028895/202437657/23554222-1720726643796.jpeg',\n",
       " 'https://review-rating.mncdn.com/mnresize/140/210/prod/img/2016931/2020919/2034877/202437657/82032316-1681841781530.jpeg',\n",
       " 'https://review-rating.mncdn.com/mnresize/140/210/prod/img/2016931/2020919/2034877/202437657/82032316-1681841780319.jpeg',\n",
       " 'https://review-rating.mncdn.com/mnresize/140/210/prod/img/2015934/2024907/2023910/202437657/15600153-1662641051175.jpeg',\n",
       " 'https://review-rating.mncdn.com/mnresize/140/210/prod/img/2016931/2026901/2026901/202437657/8770935-1696946977420.jpeg',\n",
       " 'https://review-rating.mncdn.com/mnresize/140/210/prod/img/2015934/2021916/2043850/202437657/16478446-1656415863298.jpeg',\n",
       " 'https://review-rating.mncdn.com/mnresize/140/210/prod/img/2016931/2018925/2018925/202437657/87366714-1675368445679.jpeg',\n",
       " 'https://review-rating.mncdn.com/mnresize/140/210/prod/img/2016931/2018925/2018925/202437657/87366714-1675368445038.jpeg',\n",
       " 'https://review-rating.mncdn.com/mnresize/140/210/prod/img/2016931/2027898/2034877/202437657/16785472-1700299968546.jpeg',\n",
       " 'https://review-rating.mncdn.com/mnresize/140/210/prod/img/2016931/2021916/2043850/202437657/10697161-1685194070010.jpeg',\n",
       " 'https://review-rating.mncdn.com/mnresize/140/210/prod/img/2015934/2024907/2029892/202437657/16423353-1663168719305.jpeg']"
      ]
     },
     "execution_count": 83,
     "metadata": {},
     "output_type": "execute_result"
    }
   ],
   "source": [
    "images"
   ]
  },
  {
   "cell_type": "code",
   "execution_count": null,
   "id": "a6b0457d-d8f6-4ed8-94f8-c7b21b7f021c",
   "metadata": {},
   "outputs": [],
   "source": [
    "windows = driver.window_handles\n",
    "len(windows)"
   ]
  },
  {
   "cell_type": "code",
   "execution_count": null,
   "id": "956c5344-42f9-4b55-ab1c-47345d40e5d2",
   "metadata": {},
   "outputs": [],
   "source": [
    "driver.back()"
   ]
  },
  {
   "cell_type": "code",
   "execution_count": 62,
   "id": "2b21a84f-d11e-4a9f-9d37-10ed851d4ce5",
   "metadata": {},
   "outputs": [
    {
     "data": {
      "text/plain": [
       "2"
      ]
     },
     "execution_count": 62,
     "metadata": {},
     "output_type": "execute_result"
    }
   ],
   "source": [
    "windows = driver.window_handles\n",
    "driver.switch_to.window(windows[1])\n",
    "len(windows)"
   ]
  },
  {
   "cell_type": "code",
   "execution_count": null,
   "id": "ac6c8d4e-7fbf-4dd9-ad51-4bd8da805839",
   "metadata": {},
   "outputs": [],
   "source": [
    "windows = driver.window_handles\n",
    "driver.switch_to.window(windows[1])\n",
    "gallery = driver.find_element(By.CLASS_NAME, \"image-gallery\")\n",
    "driver.execute_script(\"arguments[0].scrollTop += 300;\", gallery) \n",
    "#driver.execute_script(\"window.scrollBy(0, 400);\")"
   ]
  },
  {
   "cell_type": "code",
   "execution_count": 57,
   "id": "2dcd8c7b-2057-4260-8003-0b76a2189d11",
   "metadata": {},
   "outputs": [],
   "source": [
    "def run():\n",
    "    global driver\n",
    "    global is_it_first_time\n",
    "    is_it_first_time = True\n",
    "    open_main_screen()\n",
    "    search_keys = ['oyuncak bebek']\n",
    "    for key in search_keys:\n",
    "        search_items(key)\n",
    "        select_most_reated()\n",
    "        time.sleep(2)\n",
    "        products = WebDriverWait(driver, 10).until(\n",
    "            EC.presence_of_all_elements_located((By.CLASS_NAME, 'variant-options-wrapper')))\n",
    "        for i in products:\n",
    "            i.click()\n",
    "            time.sleep(2)\n",
    "            windows = driver.window_handles\n",
    "            driver.switch_to.window(windows[1])\n",
    "            if is_it_first_time:\n",
    "                close_understood()\n",
    "            #dfdfdfdfdfffddfdfdfdfdfdfdfdfffddfdfdf\n",
    "            time.sleep(2)\n",
    "            brand = scrap_title()[0]\n",
    "            title = scrap_title()[1]\n",
    "            key_word = key\n",
    "            #dfdfdfdfdfffddfdfdfdfdfdfdfdfffddfdfdf\n",
    "            click_all_features()\n",
    "            time.sleep(1)\n",
    "            find_dim_ = find_dim()\n",
    "            driver.execute_script(\"window.scrollBy(0, 400);\") #bazi urunlerde aciklama olmadigi icin ortala yerine kaydiriyorum.\n",
    "            find_dim_from_content_ = find_dim_from_content()\n",
    "            guess_dimensions_ = guess_dimensions()\n",
    "            if guess_dimensions_ == 'there is no comment':\n",
    "                guess_dimensions_ = None\n",
    "            elif not guess_dimensions_:\n",
    "                driver.back()\n",
    "            guess_dim_from_comment_ = guess_dim_from_comment()\n",
    "            if guess_dim_from_comment_ == 'there is no comment':\n",
    "                guess_dim_from_comment_ = None\n",
    "            else:\n",
    "                driver.back()\n",
    "            driver.execute_script(\"window.scrollTo(0, 0);\")\n",
    "            #buradan sonra fotograf cekme asamalri gelmesi lazim\n",
    "            images = scrape_photo(80)\n",
    "            #buradan once fotograf cekme asamalri gelmesi lazim\n",
    "            for img in images:\n",
    "                df.loc[len(df)] = [key_word, brand ,title, find_dim_, find_dim_from_content_, guess_dimensions_,\n",
    "                                   guess_dim_from_comment_, img]\n",
    "                print(df.tail(1))\n",
    "                \n",
    "            driver.close()\n",
    "            driver.switch_to.window(windows[0])\n",
    "            driver.execute_script(\"window.scrollTo(0, 0);\")\n",
    "            break"
   ]
  },
  {
   "cell_type": "code",
   "execution_count": 58,
   "id": "7f275f37-6f11-403c-842a-da858ceafc78",
   "metadata": {},
   "outputs": [
    {
     "ename": "TimeoutException",
     "evalue": "Message: \nStacktrace:\n\tGetHandleVerifier [0x00007FF63D7B3A95+28005]\n\t(No symbol) [0x00007FF63D718390]\n\t(No symbol) [0x00007FF63D5B580A]\n\t(No symbol) [0x00007FF63D605A3E]\n\t(No symbol) [0x00007FF63D605D2C]\n\t(No symbol) [0x00007FF63D64EA97]\n\t(No symbol) [0x00007FF63D62BA7F]\n\t(No symbol) [0x00007FF63D64B8B3]\n\t(No symbol) [0x00007FF63D62B7E3]\n\t(No symbol) [0x00007FF63D5F75C8]\n\t(No symbol) [0x00007FF63D5F8731]\n\tGetHandleVerifier [0x00007FF63DAA641D+3118829]\n\tGetHandleVerifier [0x00007FF63DAF6C70+3448640]\n\tGetHandleVerifier [0x00007FF63DAECEED+3408317]\n\tGetHandleVerifier [0x00007FF63D87A3EB+841403]\n\t(No symbol) [0x00007FF63D7233EF]\n\t(No symbol) [0x00007FF63D71F464]\n\t(No symbol) [0x00007FF63D71F5FD]\n\t(No symbol) [0x00007FF63D70EB59]\n\tBaseThreadInitThunk [0x00007FFA9C68E8D7+23]\n\tRtlUserThreadStart [0x00007FFA9E27FBCC+44]\n",
     "output_type": "error",
     "traceback": [
      "\u001b[1;31m---------------------------------------------------------------------------\u001b[0m",
      "\u001b[1;31mTimeoutException\u001b[0m                          Traceback (most recent call last)",
      "Cell \u001b[1;32mIn[58], line 1\u001b[0m\n\u001b[1;32m----> 1\u001b[0m \u001b[43mrun\u001b[49m\u001b[43m(\u001b[49m\u001b[43m)\u001b[49m\n",
      "Cell \u001b[1;32mIn[57], line 43\u001b[0m, in \u001b[0;36mrun\u001b[1;34m()\u001b[0m\n\u001b[0;32m     41\u001b[0m driver\u001b[38;5;241m.\u001b[39mexecute_script(\u001b[38;5;124m\"\u001b[39m\u001b[38;5;124mwindow.scrollTo(0, 0);\u001b[39m\u001b[38;5;124m\"\u001b[39m)\n\u001b[0;32m     42\u001b[0m \u001b[38;5;66;03m#buradan sonra fotograf cekme asamalri gelmesi lazim\u001b[39;00m\n\u001b[1;32m---> 43\u001b[0m images \u001b[38;5;241m=\u001b[39m \u001b[43mscrape_photo\u001b[49m\u001b[43m(\u001b[49m\u001b[38;5;241;43m80\u001b[39;49m\u001b[43m)\u001b[49m\n\u001b[0;32m     44\u001b[0m \u001b[38;5;66;03m#buradan once fotograf cekme asamalri gelmesi lazim\u001b[39;00m\n\u001b[0;32m     45\u001b[0m \u001b[38;5;28;01mfor\u001b[39;00m img \u001b[38;5;129;01min\u001b[39;00m images:\n",
      "Cell \u001b[1;32mIn[53], line 2\u001b[0m, in \u001b[0;36mscrape_photo\u001b[1;34m(photo_number)\u001b[0m\n\u001b[0;32m      1\u001b[0m \u001b[38;5;28;01mdef\u001b[39;00m \u001b[38;5;21mscrape_photo\u001b[39m(photo_number):\n\u001b[1;32m----> 2\u001b[0m     \u001b[43mWebDriverWait\u001b[49m\u001b[43m(\u001b[49m\u001b[43mdriver\u001b[49m\u001b[43m,\u001b[49m\u001b[43m \u001b[49m\u001b[38;5;241;43m10\u001b[39;49m\u001b[43m)\u001b[49m\u001b[38;5;241;43m.\u001b[39;49m\u001b[43muntil\u001b[49m\u001b[43m(\u001b[49m\u001b[43mEC\u001b[49m\u001b[38;5;241;43m.\u001b[39;49m\u001b[43melement_to_be_clickable\u001b[49m\u001b[43m(\u001b[49m\u001b[43m(\u001b[49m\u001b[43mBy\u001b[49m\u001b[38;5;241;43m.\u001b[39;49m\u001b[43mCLASS_NAME\u001b[49m\u001b[43m,\u001b[49m\u001b[43m \u001b[49m\u001b[38;5;124;43m\"\u001b[39;49m\u001b[38;5;124;43mrvw-cnt-tx\u001b[39;49m\u001b[38;5;124;43m\"\u001b[39;49m\u001b[43m)\u001b[49m\u001b[43m)\u001b[49m\u001b[43m)\u001b[49m\u001b[38;5;241m.\u001b[39mclick()\n\u001b[0;32m      3\u001b[0m     \u001b[38;5;66;03m#enter_images = driver.find_element(By.XPATH, \"//span[@class='ps-tags__tag--bold' and contains(text(), 'fotoğraflı')]\")\u001b[39;00m\n\u001b[0;32m      4\u001b[0m     time\u001b[38;5;241m.\u001b[39msleep(\u001b[38;5;241m2\u001b[39m)\n",
      "File \u001b[1;32m~\\AppData\\Local\\Programs\\Python\\Python312\\Lib\\site-packages\\selenium\\webdriver\\support\\wait.py:105\u001b[0m, in \u001b[0;36mWebDriverWait.until\u001b[1;34m(self, method, message)\u001b[0m\n\u001b[0;32m    103\u001b[0m     \u001b[38;5;28;01mif\u001b[39;00m time\u001b[38;5;241m.\u001b[39mmonotonic() \u001b[38;5;241m>\u001b[39m end_time:\n\u001b[0;32m    104\u001b[0m         \u001b[38;5;28;01mbreak\u001b[39;00m\n\u001b[1;32m--> 105\u001b[0m \u001b[38;5;28;01mraise\u001b[39;00m TimeoutException(message, screen, stacktrace)\n",
      "\u001b[1;31mTimeoutException\u001b[0m: Message: \nStacktrace:\n\tGetHandleVerifier [0x00007FF63D7B3A95+28005]\n\t(No symbol) [0x00007FF63D718390]\n\t(No symbol) [0x00007FF63D5B580A]\n\t(No symbol) [0x00007FF63D605A3E]\n\t(No symbol) [0x00007FF63D605D2C]\n\t(No symbol) [0x00007FF63D64EA97]\n\t(No symbol) [0x00007FF63D62BA7F]\n\t(No symbol) [0x00007FF63D64B8B3]\n\t(No symbol) [0x00007FF63D62B7E3]\n\t(No symbol) [0x00007FF63D5F75C8]\n\t(No symbol) [0x00007FF63D5F8731]\n\tGetHandleVerifier [0x00007FF63DAA641D+3118829]\n\tGetHandleVerifier [0x00007FF63DAF6C70+3448640]\n\tGetHandleVerifier [0x00007FF63DAECEED+3408317]\n\tGetHandleVerifier [0x00007FF63D87A3EB+841403]\n\t(No symbol) [0x00007FF63D7233EF]\n\t(No symbol) [0x00007FF63D71F464]\n\t(No symbol) [0x00007FF63D71F5FD]\n\t(No symbol) [0x00007FF63D70EB59]\n\tBaseThreadInitThunk [0x00007FFA9C68E8D7+23]\n\tRtlUserThreadStart [0x00007FFA9E27FBCC+44]\n"
     ]
    }
   ],
   "source": [
    "run()"
   ]
  },
  {
   "cell_type": "code",
   "execution_count": null,
   "id": "1fd3807d-1c62-4167-b491-0a4cc20bffeb",
   "metadata": {
    "scrolled": true
   },
   "outputs": [],
   "source": [
    "scrape_photo()"
   ]
  },
  {
   "cell_type": "code",
   "execution_count": null,
   "id": "0b7a0716-48fd-4282-8bce-071001804271",
   "metadata": {},
   "outputs": [],
   "source": [
    "windows = driver.window_handles\n",
    "driver.switch_to.window(windows[1])\n",
    "driver.execute_script(\"window.scrollBy(0, 400);\")"
   ]
  },
  {
   "cell_type": "code",
   "execution_count": null,
   "id": "8bc7848f-2726-426c-9043-5dafd193c644",
   "metadata": {},
   "outputs": [],
   "source": [
    "guess_dimensions()"
   ]
  },
  {
   "cell_type": "code",
   "execution_count": null,
   "id": "03a7ac7d-cdde-4875-8801-ddf5b4fa2f97",
   "metadata": {},
   "outputs": [],
   "source": [
    "guess_dim_from_comment()"
   ]
  },
  {
   "cell_type": "code",
   "execution_count": null,
   "id": "a98ec279-e154-4dac-a4a0-6480cf83fece",
   "metadata": {},
   "outputs": [],
   "source": []
  }
 ],
 "metadata": {
  "kernelspec": {
   "display_name": "Python 3 (ipykernel)",
   "language": "python",
   "name": "python3"
  },
  "language_info": {
   "codemirror_mode": {
    "name": "ipython",
    "version": 3
   },
   "file_extension": ".py",
   "mimetype": "text/x-python",
   "name": "python",
   "nbconvert_exporter": "python",
   "pygments_lexer": "ipython3",
   "version": "3.12.2"
  }
 },
 "nbformat": 4,
 "nbformat_minor": 5
}
