{
 "cells": [
  {
   "cell_type": "code",
   "execution_count": null,
   "id": "3ac30b12-7460-488d-becb-25aab674b25e",
   "metadata": {},
   "outputs": [],
   "source": [
    "import requests\n",
    "import pandas as pd\n",
    "import threading\n",
    "\n",
    "def download_image(photo_url, file_name):\n",
    "    response = requests.get(photo_url)\n",
    "    with open(file_name, 'wb') as file:\n",
    "        file.write(response.content)\n",
    "    print(f\"{file_name} indirildi.\")\n",
    "\n",
    "# DataFrame'i oku\n",
    "df = pd.read_csv('your_dataframe.csv')\n",
    "\n",
    "threads = []\n",
    "for index, row in df.iterrows():\n",
    "    photo_url = row['photo_url']\n",
    "    photo_name = row['photo_name']  # Fotoğraf adını al\n",
    "    file_name = f\"/path/to/download/directory/{photo_name}.jpg\"\n",
    "    \n",
    "    # Her indirme için bir thread oluştur\n",
    "    thread = threading.Thread(target=download_image, args=(photo_url, file_name))\n",
    "    threads.append(thread)\n",
    "    thread.start()\n",
    "\n",
    "# Tüm threadlerin bitmesini bekle\n",
    "for thread in threads:\n",
    "    thread.join()\n",
    "\n",
    "print(\"Tüm fotoğraflar indirildi.\")\n"
   ]
  }
 ],
 "metadata": {
  "kernelspec": {
   "display_name": "Python 3 (ipykernel)",
   "language": "python",
   "name": "python3"
  },
  "language_info": {
   "codemirror_mode": {
    "name": "ipython",
    "version": 3
   },
   "file_extension": ".py",
   "mimetype": "text/x-python",
   "name": "python",
   "nbconvert_exporter": "python",
   "pygments_lexer": "ipython3",
   "version": "3.10.0"
  }
 },
 "nbformat": 4,
 "nbformat_minor": 5
}
