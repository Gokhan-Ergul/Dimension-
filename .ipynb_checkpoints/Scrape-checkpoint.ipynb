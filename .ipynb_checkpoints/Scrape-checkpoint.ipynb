{
 "cells": [
  {
   "cell_type": "code",
   "execution_count": 27,
   "id": "90948bb6-bb46-475b-a924-70d89399398d",
   "metadata": {},
   "outputs": [],
   "source": [
    "import pandas as pd\n",
    "from selenium.common.exceptions import NoSuchElementException\n",
    "from selenium.common.exceptions import StaleElementReferenceException\n",
    "from selenium import webdriver\n",
    "from selenium.webdriver.chrome.service import Service\n",
    "from selenium.webdriver.common.by import By\n",
    "from selenium.webdriver.support import expected_conditions as EC\n",
    "from selenium.webdriver.support.ui import WebDriverWait\n",
    "from selenium.webdriver.common.keys import Keys\n",
    "from selenium.webdriver.chrome.options import Options\n",
    "import time\n",
    "import re\n",
    "import traceback\n",
    "from warnings import filterwarnings\n",
    "filterwarnings('ignore')"
   ]
  },
  {
   "cell_type": "code",
   "execution_count": 28,
   "id": "e36ac6ae-5bef-48fe-aa30-017a98ac0bc7",
   "metadata": {},
   "outputs": [],
   "source": [
    "driver = None"
   ]
  },
  {
   "cell_type": "code",
   "execution_count": 29,
   "id": "132f428e-0cf4-4441-9aa8-6a8f1526fac4",
   "metadata": {},
   "outputs": [],
   "source": [
    "def open_main_screen():\n",
    "    global driver\n",
    "    path = \"C:\\\\Program Files (x86)\\\\chromedriver.exe\"\n",
    "    service = Service(path)\n",
    "    options = Options()\n",
    "    #options.add_argument(\"--headless\")\n",
    "    chrome_options = Options()\n",
    "    chrome_options.add_argument(\"--disable-notifications\")  # Bildirimleri devre dışı bırak\n",
    "    chrome_options.add_argument(\"--disable-popup-blocking\") # Pop-up'ları engelle\n",
    "    chrome_options.add_argument(\"--start-maximized\")       # Tam ekran başlat\n",
    "    \n",
    "    # Tarayıcı profili\n",
    "    prefs = {\"profile.default_content_setting_values.notifications\": 2}  # Bildirim izinlerini kapat\n",
    "    chrome_options.add_experimental_option(\"prefs\", prefs)\n",
    "    driver = webdriver.Chrome(service=service, options=chrome_options)\n",
    "    url = \"https://www.trendyol.com/\"\n",
    "    driver.get(url)\n",
    "    \n",
    "    try:\n",
    "        cookies_button_rejected = WebDriverWait(driver, 10).until(\n",
    "            EC.element_to_be_clickable((By.XPATH, '//*[@id=\"onetrust-reject-all-handler\"]')))\n",
    "        cookies_button_rejected.click()\n",
    "    except Exception as e:\n",
    "        print('cookies not found')\n",
    "        print(e)\n"
   ]
  },
  {
   "cell_type": "code",
   "execution_count": 30,
   "id": "03dd5bb7-396a-4526-bb5d-b737c3581e18",
   "metadata": {},
   "outputs": [],
   "source": [
    "def search_items(entry):\n",
    "    global driver\n",
    "    search_box = driver.find_element(By.XPATH,'//*[@id=\"sfx-discovery-search-suggestions\"]/div/div/input')\n",
    "    search_box.clear()\n",
    "    search_box.send_keys(entry)\n",
    "    search_box.send_keys(Keys.RETURN)\n",
    "    time.sleep(3)  "
   ]
  },
  {
   "cell_type": "code",
   "execution_count": 31,
   "id": "f3359e09-ca1c-44d8-b7fb-92475ec2f057",
   "metadata": {},
   "outputs": [],
   "source": [
    "def select_most_reated():\n",
    "    global driver\n",
    "    recommended = driver.find_element(By.XPATH,'//*[@id=\"search-app\"]/div/div/div/div[2]/div[1]/div[2]/div/div/div')\n",
    "    recommended.click()\n",
    "    most_rated = driver.find_element(By.XPATH,'//*[@id=\"search-app\"]/div/div/div/div[2]/div[1]/div[2]/div/ul/li[7]/span')\n",
    "    most_rated.click()"
   ]
  },
  {
   "cell_type": "code",
   "execution_count": 32,
   "id": "5ff5f95a-f593-4bb9-a9e8-16271e7921ab",
   "metadata": {},
   "outputs": [],
   "source": [
    "def find_dim():\n",
    "    global driver\n",
    "    keywords = [\"boyut\", \"ölçü\", \"uzunluk\", \"genişlik\", \"yükseklik\", \"cm\", \"mm\", \"metre\",'santimetre','santim']\n",
    "    pattern = re.compile(r\".*(\" + \"|\".join(keywords) + r\").*\", re.IGNORECASE)\n",
    "    find_dem = driver.find_element(By.XPATH,'//*[@id=\"product-detail-app\"]/div/section/div/div/div/ul')\n",
    "    \n",
    "    relevant_details = [line.strip() for line in find_dem.text.split('\\n') if pattern.match(line.strip())]\n",
    "\n",
    "    return relevant_details"
   ]
  },
  {
   "cell_type": "code",
   "execution_count": 33,
   "id": "bcf7dc07-c407-41f8-a73f-0446fe05a69e",
   "metadata": {},
   "outputs": [],
   "source": [
    "def find_dim_from_content():\n",
    "    keywords = [\"boyut\", \"ölçü\", \"uzunluk\", \"genişlik\", \"yükseklik\", \"cm\", \"mm\", \"metre\",'santimetre','santim',]\n",
    "    pattern = re.compile(r\".*(\" + \"|\".join(keywords) + r\").*\", re.IGNORECASE)\n",
    "    find_dem = driver.find_element(By.XPATH,'//*[@id=\"urun-aciklamasi\"]/div')\n",
    "    \n",
    "    relevant_details = [line.strip() for line in find_dem.text.split('\\n') if pattern.match(line.strip())]\n",
    "\n",
    "    return relevant_details    \n"
   ]
  },
  {
   "cell_type": "code",
   "execution_count": 34,
   "id": "e0cc149e-ffe1-4039-a7e2-cfa61c03ddc6",
   "metadata": {},
   "outputs": [],
   "source": [
    "def guess_dimensions():\n",
    "    global driver\n",
    "    element = driver.find_element(By.CLASS_NAME, 'navigate-all-reviews-btn')\n",
    "\n",
    "    # JavaScript ile öğeyi ekrana kaydır\n",
    "    driver.execute_script(\"arguments[0].scrollIntoView({behavior: 'smooth', block: 'center'});\", element)\n",
    "    \n",
    "    #driver.execute_script(\"window.scrollBy(0, -400);\") bu biraz daha kesin olmayan yol\n",
    "    try:\n",
    "        WebDriverWait(driver, 10).until(EC.element_to_be_clickable((By.XPATH, \"//a[p[text()='boyut ve ölçü']]\"))).click()\n",
    "    except:\n",
    "        button = driver.find_element(By.XPATH, \"//button[contains(@class, 'tags-wrapper__button') and not(contains(@class, 'rotate-180'))]\")\n",
    "        button.click()\n",
    "        WebDriverWait(driver, 10).until(EC.element_to_be_clickable((By.XPATH, \"//a[p[text()='boyut ve ölçü']]\"))).click()\n",
    "\n",
    "    time.sleep(1)\n",
    "    the_answer = driver.find_element(By.XPATH, '//*[@id=\"questions-and-answers-app\"]/div/div/div/div/div/div[3]/div[3]/div/div/div[1]/div[2]/div[2]')\n",
    "    return the_answer.text.split('\\n')[1]"
   ]
  },
  {
   "cell_type": "code",
   "execution_count": 35,
   "id": "e8c3dc13-c3e8-466a-ad95-67d15895e5ad",
   "metadata": {},
   "outputs": [],
   "source": [
    "def guess_dim_from_comment(entry = 'Boyut' ):\n",
    "    keywords = [\"cm\", \"mm\", \"metre\",'santimetre','santim']\n",
    "    element = driver.find_element(By.CLASS_NAME, 'navigate-all-questions-btn')\n",
    "    element.click()\n",
    "    time.sleep(2)\n",
    "    search_box = driver.find_element(By.XPATH,'//*[@id=\"questions-and-answers-app\"]/div/div/div/div/div/div[3]/div[2]/div/div[1]/input')\n",
    "    search_box.send_keys(entry)\n",
    "    search_box.send_keys(Keys.RETURN)\n",
    "    time.sleep(2)\n",
    "\n",
    "    answers = driver.find_elements(By.CLASS_NAME, 'answer')\n",
    "    for answer in answers:\n",
    "        answer = answer.text.split('\\n')[1]\n",
    "        answer = answer.lower()\n",
    "        if any(keyword in answer for keyword in keywords):\n",
    "            return answer\n",
    "    "
   ]
  },
  {
   "cell_type": "code",
   "execution_count": 36,
   "id": "005e9031-33e5-46ff-a587-c5913b4c46aa",
   "metadata": {},
   "outputs": [],
   "source": [
    "def scrape_photo():\n",
    "    WebDriverWait(driver, 10).until(EC.element_to_be_clickable((By.CLASS_NAME, \"rvw-cnt-tx\"))).click()\n",
    "    #enter_images = driver.find_element(By.XPATH, \"//span[@class='ps-tags__tag--bold' and contains(text(), 'fotoğraflı')]\")\n",
    "    enter_images = driver.find_element(By.XPATH,'//*[@id=\"rating-and-review-app\"]/div/div/div/div[3]/div/div/div[3]/div[1]/div/div[1]/button')\n",
    "    enter_images.click()"
   ]
  },
  {
   "cell_type": "code",
   "execution_count": 37,
   "id": "43a115df-1fde-4f5d-be40-9f5c31548b1a",
   "metadata": {},
   "outputs": [],
   "source": [
    "def click_all_features():\n",
    "    global driver\n",
    "    ozellikler = driver.find_element(By.CLASS_NAME,'button-all-features')\n",
    "    ozellikler.click()"
   ]
  },
  {
   "cell_type": "code",
   "execution_count": 38,
   "id": "5c7ea0c7-d2b8-44f5-beec-e874ed8942c0",
   "metadata": {},
   "outputs": [],
   "source": [
    "is_it_first_time = True\n",
    "def close_understood():\n",
    "    global is_it_first_time\n",
    "    if is_it_first_time:\n",
    "        global driver\n",
    "        understood = driver.find_element(By.XPATH,'//*[@id=\"product-detail-app\"]/div/div[2]/div/div[2]/div[2]/div/div[1]/aside/div[1]/div/div[2]/div/div[2]/div/div/button')\n",
    "        understood.click()\n",
    "        is_it_first_time = False"
   ]
  },
  {
   "cell_type": "code",
   "execution_count": 39,
   "id": "7c9f3977-f68d-4eab-b549-a7786d916bd5",
   "metadata": {},
   "outputs": [],
   "source": [
    "def scrap_brand():\n",
    "    global driver\n",
    "    brand = driver.find_element(By.XPATH, \"//*[contains(@class, 'product-brand-name')]\")\n",
    "    return brand.text"
   ]
  },
  {
   "cell_type": "code",
   "execution_count": 40,
   "id": "7780d8a1-86b3-4877-a2cd-ef580b3a57e8",
   "metadata": {},
   "outputs": [],
   "source": [
    "def scrap_title():\n",
    "    title = driver.find_element(By.XPATH, '//*[@id=\"product-detail-app\"]/div/div[2]/div/div[2]/div[2]/div/div[1]/div[2]/div/div/div[1]/h1/span')\n",
    "    return title.text"
   ]
  },
  {
   "cell_type": "code",
   "execution_count": null,
   "id": "ddd35ce2-1408-43d2-bbde-496abdc35386",
   "metadata": {},
   "outputs": [],
   "source": []
  },
  {
   "cell_type": "code",
   "execution_count": null,
   "id": "56208950-a6c7-4946-a01b-a9f7911f400b",
   "metadata": {},
   "outputs": [],
   "source": []
  },
  {
   "cell_type": "code",
   "execution_count": 41,
   "id": "2d1049c3-b733-4cc4-9e07-3cd84fa493ae",
   "metadata": {},
   "outputs": [],
   "source": [
    "#driver.execute_script(\"window.scrollBy(0, 400);\")"
   ]
  },
  {
   "cell_type": "code",
   "execution_count": 42,
   "id": "2dcd8c7b-2057-4260-8003-0b76a2189d11",
   "metadata": {},
   "outputs": [],
   "source": [
    "def run():\n",
    "    global driver\n",
    "    global is_it_first_time\n",
    "    is_it_first_time = True\n",
    "    open_main_screen()\n",
    "    search_keys = ['Kapı Kolu',\"termos\",'saklama kabı']\n",
    "    for key in search_keys:\n",
    "        search_items(key)\n",
    "        select_most_reated()\n",
    "        time.sleep(2)\n",
    "        products = WebDriverWait(driver, 10).until(\n",
    "            EC.presence_of_all_elements_located((By.CLASS_NAME, 'variant-options-wrapper')))\n",
    "        for i in products:\n",
    "            i.click()\n",
    "            time.sleep(2)\n",
    "            windows = driver.window_handles\n",
    "            driver.switch_to.window(windows[1])\n",
    "            if is_it_first_time:\n",
    "                close_understood()\n",
    "            #dfdfdfdfdfffddfdfdfdfdfdfdfdfffddfdfdf\n",
    "            brand = scrap_brand()\n",
    "            title = scrap_title()\n",
    "            key = key\n",
    "            #dfdfdfdfdfffddfdfdfdfdfdfdfdfffddfdfdf\n",
    "            \n",
    "            click_all_features()\n",
    "            \n",
    "            dim = find_dim()\n",
    "            if not dim:\n",
    "                driver.execute_script(\"window.scrollBy(0, 400);\") #bazi urunlerde aciklama olmadigi icin ortala yerine kaydiriyorum.\n",
    "                dim = find_dim_from_content()\n",
    "                if not dim:\n",
    "                    dim = guess_dimensions()\n",
    "                    if not dim:\n",
    "                        dim = guess_dim_from_comment()\n",
    "            driver.back()\n",
    "            driver.execute_script(\"window.scrollTo(0, 0);\")\n",
    "            print(dim)\n",
    "            break"
   ]
  },
  {
   "cell_type": "code",
   "execution_count": 43,
   "id": "9f6068f8-f603-4677-bc40-0f1f11298076",
   "metadata": {},
   "outputs": [
    {
     "ename": "NameError",
     "evalue": "name 'river' is not defined",
     "output_type": "error",
     "traceback": [
      "\u001b[1;31m---------------------------------------------------------------------------\u001b[0m",
      "\u001b[1;31mNameError\u001b[0m                                 Traceback (most recent call last)",
      "Cell \u001b[1;32mIn[43], line 1\u001b[0m\n\u001b[1;32m----> 1\u001b[0m \u001b[43mrun\u001b[49m\u001b[43m(\u001b[49m\u001b[43m)\u001b[49m\n",
      "Cell \u001b[1;32mIn[42], line 30\u001b[0m, in \u001b[0;36mrun\u001b[1;34m()\u001b[0m\n\u001b[0;32m     28\u001b[0m dim \u001b[38;5;241m=\u001b[39m find_dim()\n\u001b[0;32m     29\u001b[0m \u001b[38;5;28;01mif\u001b[39;00m \u001b[38;5;129;01mnot\u001b[39;00m dim:\n\u001b[1;32m---> 30\u001b[0m     \u001b[43mriver\u001b[49m\u001b[38;5;241m.\u001b[39mexecute_script(\u001b[38;5;124m\"\u001b[39m\u001b[38;5;124mwindow.scrollBy(0, 400);\u001b[39m\u001b[38;5;124m\"\u001b[39m) \u001b[38;5;66;03m#bazi urunlerde aciklama olmadigi icin ortala yerine kaydiriyorum.\u001b[39;00m\n\u001b[0;32m     31\u001b[0m     dim \u001b[38;5;241m=\u001b[39m find_dim_from_content()\n\u001b[0;32m     32\u001b[0m     \u001b[38;5;28;01mif\u001b[39;00m \u001b[38;5;129;01mnot\u001b[39;00m dim:\n",
      "\u001b[1;31mNameError\u001b[0m: name 'river' is not defined"
     ]
    }
   ],
   "source": [
    "run()"
   ]
  },
  {
   "cell_type": "code",
   "execution_count": null,
   "id": "87ee7926-3225-43a9-b5da-8b1dd0059d40",
   "metadata": {},
   "outputs": [],
   "source": []
  },
  {
   "cell_type": "code",
   "execution_count": null,
   "id": "f9bd59b6-cba8-4256-912b-5e783ebf9d18",
   "metadata": {},
   "outputs": [],
   "source": [
    "windows = driver.window_handles\n",
    "driver.switch_to.window(windows[2])"
   ]
  },
  {
   "cell_type": "code",
   "execution_count": null,
   "id": "0b7a0716-48fd-4282-8bce-071001804271",
   "metadata": {},
   "outputs": [],
   "source": [
    "    windows = driver.window_handles\n",
    "    driver.switch_to.window(windows[1])"
   ]
  },
  {
   "cell_type": "code",
   "execution_count": null,
   "id": "abf982bd-2cee-42b5-86fb-1133f3b9db38",
   "metadata": {},
   "outputs": [],
   "source": [
    "click_ozel()"
   ]
  },
  {
   "cell_type": "code",
   "execution_count": null,
   "id": "8d8e0e85-06c5-4547-97f6-8a54fd907dfb",
   "metadata": {},
   "outputs": [],
   "source": [
    "guess_dimensions()"
   ]
  },
  {
   "cell_type": "code",
   "execution_count": null,
   "id": "15864df2-2c66-4ab1-9703-7136fb209596",
   "metadata": {},
   "outputs": [],
   "source": [
    "driver.execute_script(\"window.scrollBy(0, -200);\")\n",
    "element = WebDriverWait(driver, 10).until(\n",
    "    EC.element_to_be_clickable((By.XPATH, \"//a[p[text()='boyut ve ölçü']]\"))\n",
    ")\n",
    "WebDriverWait(driver, 10).until(EC.element_to_be_clickable((By.XPATH, \"//a[p[text()='boyut ve ölçü']]\"))).click()"
   ]
  },
  {
   "cell_type": "code",
   "execution_count": null,
   "id": "058f2996-de3d-4d08-95bb-ded31b4ec901",
   "metadata": {},
   "outputs": [],
   "source": [
    "santimdir\n",
    "santim\n",
    "cm\n",
    "m\n",
    "metre\n",
    "metredir"
   ]
  },
  {
   "cell_type": "code",
   "execution_count": null,
   "id": "a12ad2f1-22a7-4c97-8ce9-5247f4dbbe5e",
   "metadata": {},
   "outputs": [],
   "source": [
    "the_answer = driver.find_element(By.XPATH, '//*[@id=\"questions-and-answers-app\"]/div/div/div/div/div/div[3]/div[3]/div/div/div[1]/div[2]/div[2]')\n",
    "the_answer.text.split('\\n')[1]"
   ]
  },
  {
   "cell_type": "code",
   "execution_count": null,
   "id": "9f93a701-5356-435a-8089-4a07990a1e3a",
   "metadata": {},
   "outputs": [],
   "source": [
    "close_understood()\n",
    "is_it_first_time"
   ]
  },
  {
   "cell_type": "code",
   "execution_count": null,
   "id": "1e8e4090-fe0b-43b2-ab0e-f83747b8e210",
   "metadata": {},
   "outputs": [],
   "source": [
    "#//*[@id=\"product-detail-app\"]/div/div[2]/div/div[2]/div[2]/div/div[1]/div[7]/div[4]/div/div[2]/a"
   ]
  },
  {
   "cell_type": "code",
   "execution_count": null,
   "id": "539f7af0-89f8-49e0-a074-51304da97a8a",
   "metadata": {},
   "outputs": [],
   "source": [
    "click_ozel()"
   ]
  },
  {
   "cell_type": "code",
   "execution_count": null,
   "id": "3b318203-1fe5-44f3-9d75-93cf13f5f68c",
   "metadata": {},
   "outputs": [],
   "source": []
  },
  {
   "cell_type": "code",
   "execution_count": null,
   "id": "85ccc743-1c23-44a8-9df2-ee1ed6ed8ab5",
   "metadata": {},
   "outputs": [],
   "source": []
  },
  {
   "cell_type": "code",
   "execution_count": null,
   "id": "4690b839-fe45-42f2-a533-9a8fb3b7611f",
   "metadata": {},
   "outputs": [],
   "source": [
    "x`"
   ]
  },
  {
   "cell_type": "markdown",
   "id": "41885987-51eb-4b5e-a058-a2e95f81c12f",
   "metadata": {},
   "source": [
    "ornek link:\n",
    "https://review-rating.mncdn.com/mnresize/140/210/prod/img/2017928/2025904/2042853/286919739/12609893-1724592754993.jpeg\n"
   ]
  },
  {
   "cell_type": "code",
   "execution_count": null,
   "id": "e540645f-3a6f-4126-a16e-68733b32c5e0",
   "metadata": {},
   "outputs": [],
   "source": [
    "//*[@id=\"navigation-wrapper\"]/nav/div/div[2]/div/span"
   ]
  },
  {
   "cell_type": "code",
   "execution_count": null,
   "id": "1875a725-dcd8-413f-8f7a-4f34055cbe96",
   "metadata": {},
   "outputs": [],
   "source": [
    "cok_satanlar_button = driver.find_element(By.XPATH, '//*[@id=\"navigation-wrapper\"]/nav/ul/li[9]/a')\n",
    "cok_satanlar_button.click()"
   ]
  }
 ],
 "metadata": {
  "kernelspec": {
   "display_name": "Python 3 (ipykernel)",
   "language": "python",
   "name": "python3"
  },
  "language_info": {
   "codemirror_mode": {
    "name": "ipython",
    "version": 3
   },
   "file_extension": ".py",
   "mimetype": "text/x-python",
   "name": "python",
   "nbconvert_exporter": "python",
   "pygments_lexer": "ipython3",
   "version": "3.12.2"
  }
 },
 "nbformat": 4,
 "nbformat_minor": 5
}
